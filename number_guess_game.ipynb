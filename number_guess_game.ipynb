{
 "cells": [
  {
   "cell_type": "code",
   "execution_count": null,
   "metadata": {},
   "outputs": [],
   "source": [
    "# Number guessing Game \n",
    "\n",
    "import random\n",
    "winning_number = random.randint(1,100)\n",
    "user = int(input('Guess a number b/w 1 and 100 : '))\n",
    "guess = 1\n",
    "game_over = False\n",
    "\n",
    "while True:                                                  # In place of True - we can also use 'not game_over'\n",
    "    if user == winning_number:\n",
    "        print(f\"You won \\U0001F600 !!, You guessed in {guess} times\")             # \\U0001F600 - used for emoji\n",
    "        break               # in place of 'break' we can also use-> game_over=True \n",
    "    else:\n",
    "        if user < winning_number:\n",
    "            print('Too low !!')\n",
    "        else:\n",
    "            print('Too High !!')\n",
    "            \n",
    "        guess +=1\n",
    "        user = int(input('Guess Again : '))"
   ]
  },
  {
   "cell_type": "code",
   "execution_count": null,
   "metadata": {},
   "outputs": [],
   "source": []
  }
 ],
 "metadata": {
  "kernelspec": {
   "display_name": "Python 3",
   "language": "python",
   "name": "python3"
  },
  "language_info": {
   "codemirror_mode": {
    "name": "ipython",
    "version": 3
   },
   "file_extension": ".py",
   "mimetype": "text/x-python",
   "name": "python",
   "nbconvert_exporter": "python",
   "pygments_lexer": "ipython3",
   "version": "3.6.8"
  }
 },
 "nbformat": 4,
 "nbformat_minor": 2
}
