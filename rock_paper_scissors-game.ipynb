{
 "cells": [
  {
   "cell_type": "code",
   "execution_count": null,
   "metadata": {},
   "outputs": [],
   "source": [
    "import random\n",
    "\n",
    "game = ['rock', 'paper', 'scissor']\n",
    "\n",
    "computer_win = 0\n",
    "player_win = 0\n",
    "\n",
    "computer = random.choice(game)\n",
    "\n",
    "total_chances = random.randint(1,10)\n",
    "total_games = total_chances\n",
    "\n",
    "player = input(\"Choose one from 'paper', 'rock', 'scissor' : \")\n",
    "\n",
    "while total_chances != 0:\n",
    "    if computer == player:\n",
    "        print('Both wins !')\n",
    "        computer_win += 1\n",
    "        player_win += 1\n",
    "        total_chances -= 1\n",
    "        \n",
    "    elif ((computer==\"rock\" and player==\"scissor\") or (computer==\"scissor\" and player==\"paper\")\n",
    "          or (computer==\"paper\" and player==\"rock\")):\n",
    "        print(\"Computer wins !!\")\n",
    "        computer_win += 1\n",
    "        total_chances -= 1\n",
    "        \n",
    "    else:\n",
    "        print(\"Player wins !!\")\n",
    "        player_win += 1\n",
    "        total_chances -= 1\n",
    "        \n",
    "    computer = random.choice(game)\n",
    "    player = input(\"Choose one from 'paper', 'rock', 'scissor'\")\n",
    "    \n",
    "if total_chances == 0:\n",
    "    print('*** Score : ***')\n",
    "    print(f'Total games Played : {total_games}' )\n",
    "    print(f\"Computer wins : {computer_win} times\")\n",
    "    print(f\"Playes wins : {player_win} times\")"
   ]
  },
  {
   "cell_type": "code",
   "execution_count": null,
   "metadata": {},
   "outputs": [],
   "source": []
  }
 ],
 "metadata": {
  "kernelspec": {
   "display_name": "Python 3",
   "language": "python",
   "name": "python3"
  },
  "language_info": {
   "codemirror_mode": {
    "name": "ipython",
    "version": 3
   },
   "file_extension": ".py",
   "mimetype": "text/x-python",
   "name": "python",
   "nbconvert_exporter": "python",
   "pygments_lexer": "ipython3",
   "version": "3.6.8"
  }
 },
 "nbformat": 4,
 "nbformat_minor": 2
}
