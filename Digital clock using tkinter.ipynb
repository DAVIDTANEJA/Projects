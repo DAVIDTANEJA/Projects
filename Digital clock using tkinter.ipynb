{
 "cells": [
  {
   "cell_type": "code",
   "execution_count": 9,
   "metadata": {},
   "outputs": [],
   "source": [
    "from tkinter import *\n",
    "import time\n",
    "\n",
    "root = Tk()\n",
    "root.geometry('500x140')\n",
    "root.title('Digital clock')\n",
    "\n",
    "timenow = \" \"\n",
    "\n",
    "frame = Frame(root, width=200, height=100, relief=GROOVE)\n",
    "frame.pack()\n",
    "\n",
    "clock = Label(frame, padx=25, pady=25, bd=2, fg='black', bg='lightgrey', font=('arial',40,'bold'), text=timenow, relief=SUNKEN)\n",
    "clock.pack()\n",
    "\n",
    "def clocktime():\n",
    "    global timenow\n",
    "    newtime = time.strftime('%H : %M : %S %p')       # get time\n",
    "    \n",
    "    if newtime != timenow:              # if newtime not equal to timenow\n",
    "        timenow = newtime               # then it will take time from newtime 'time.strftime' \n",
    "        clock.config(text=timenow)      # it config text = timenow\n",
    "    \n",
    "    clock.after(200, clocktime)       # after 200 ms clocktime() called\n",
    "    \n",
    "\n",
    "clocktime()\n",
    "root.mainloop()"
   ]
  },
  {
   "cell_type": "code",
   "execution_count": null,
   "metadata": {},
   "outputs": [],
   "source": []
  }
 ],
 "metadata": {
  "kernelspec": {
   "display_name": "Python 3",
   "language": "python",
   "name": "python3"
  },
  "language_info": {
   "codemirror_mode": {
    "name": "ipython",
    "version": 3
   },
   "file_extension": ".py",
   "mimetype": "text/x-python",
   "name": "python",
   "nbconvert_exporter": "python",
   "pygments_lexer": "ipython3",
   "version": "3.6.8"
  }
 },
 "nbformat": 4,
 "nbformat_minor": 2
}
