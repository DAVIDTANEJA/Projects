{
 "cells": [
  {
   "cell_type": "markdown",
   "metadata": {},
   "source": [
    "pip install qrcode                                                                                  \n",
    "pip install pyqrcode                                                                                   \n",
    "pip install pypng                                                                                          \n",
    "pip install pyzbar                                                                                              \n",
    "pip install pillow"
   ]
  },
  {
   "cell_type": "markdown",
   "metadata": {},
   "source": [
    "### Generate QR code"
   ]
  },
  {
   "cell_type": "code",
   "execution_count": 6,
   "metadata": {},
   "outputs": [],
   "source": [
    "import pyqrcode\n",
    "\n",
    "qr = pyqrcode.create('hello')\n",
    "qr.png('abc.png', scale=8)"
   ]
  },
  {
   "cell_type": "code",
   "execution_count": 9,
   "metadata": {},
   "outputs": [],
   "source": [
    "import qrcode                                                       # another method\n",
    "\n",
    "qr = qrcode.QRCode(version=1, box_size=10, border=5)\n",
    "data = 'hello qrcode'\n",
    "qr.add_data(data)\n",
    "qr.make(fit=True)\n",
    "\n",
    "img = qr.make_image(fill='black', back_color='white')\n",
    "img.save('1.png')"
   ]
  },
  {
   "cell_type": "code",
   "execution_count": null,
   "metadata": {},
   "outputs": [],
   "source": []
  },
  {
   "cell_type": "markdown",
   "metadata": {},
   "source": [
    "### Read QR code"
   ]
  },
  {
   "cell_type": "code",
   "execution_count": 11,
   "metadata": {},
   "outputs": [
    {
     "name": "stdout",
     "output_type": "stream",
     "text": [
      "hello qrcode\n"
     ]
    }
   ],
   "source": [
    "from pyzbar.pyzbar import decode\n",
    "from PIL import Image\n",
    "\n",
    "d = decode(Image.open('1.png'))       # 'abc.png'\n",
    "\n",
    "# print(d)\n",
    "print(d[0].data.decode('ascii'))   # d[0].data -> gives data , and this is binary so -> decode('ascii')"
   ]
  },
  {
   "cell_type": "code",
   "execution_count": null,
   "metadata": {},
   "outputs": [],
   "source": []
  }
 ],
 "metadata": {
  "kernelspec": {
   "display_name": "Python 3",
   "language": "python",
   "name": "python3"
  },
  "language_info": {
   "codemirror_mode": {
    "name": "ipython",
    "version": 3
   },
   "file_extension": ".py",
   "mimetype": "text/x-python",
   "name": "python",
   "nbconvert_exporter": "python",
   "pygments_lexer": "ipython3",
   "version": "3.6.8"
  }
 },
 "nbformat": 4,
 "nbformat_minor": 2
}
