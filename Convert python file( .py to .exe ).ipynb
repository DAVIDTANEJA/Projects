{
 "cells": [
  {
   "cell_type": "code",
   "execution_count": 1,
   "metadata": {
    "scrolled": true
   },
   "outputs": [
    {
     "name": "stdout",
     "output_type": "stream",
     "text": [
      "Collecting PyInstaller\n",
      "  Using cached https://files.pythonhosted.org/packages/3c/c9/c3f9bc64eb11eee6a824686deba6129884c8cbdf70e750661773b9865ee0/PyInstaller-3.6.tar.gz\n",
      "  Installing build dependencies: started\n",
      "  Installing build dependencies: finished with status 'done'\n",
      "  Getting requirements to build wheel: started\n",
      "  Getting requirements to build wheel: finished with status 'done'\n",
      "    Preparing wheel metadata: started\n",
      "    Preparing wheel metadata: finished with status 'done'\n",
      "Collecting pefile>=2017.8.1 (from PyInstaller)\n",
      "  Downloading https://files.pythonhosted.org/packages/36/58/acf7f35859d541985f0a6ea3c34baaefbfaee23642cf11e85fe36453ae77/pefile-2019.4.18.tar.gz (62kB)\n",
      "Collecting altgraph (from PyInstaller)\n",
      "  Downloading https://files.pythonhosted.org/packages/ee/3d/bfca21174b162f6ce674953f1b7a640c1498357fa6184776029557c25399/altgraph-0.17-py2.py3-none-any.whl\n",
      "Collecting pywin32-ctypes>=0.2.0 (from PyInstaller)\n",
      "  Using cached https://files.pythonhosted.org/packages/9e/4b/3ab2720f1fa4b4bc924ef1932b842edf10007e4547ea8157b0b9fc78599a/pywin32_ctypes-0.2.0-py2.py3-none-any.whl\n",
      "Requirement already satisfied: setuptools in c:\\programdata\\anaconda3\\lib\\site-packages (from PyInstaller) (40.8.0)\n",
      "Requirement already satisfied: future in c:\\programdata\\anaconda3\\lib\\site-packages (from pefile>=2017.8.1->PyInstaller) (0.17.1)\n",
      "Building wheels for collected packages: PyInstaller\n",
      "  Building wheel for PyInstaller (PEP 517): started\n",
      "  Building wheel for PyInstaller (PEP 517): finished with status 'done'\n",
      "  Stored in directory: C:\\Users\\DAVID TANEJA\\AppData\\Local\\pip\\Cache\\wheels\\62\\fe\\62\\4c0f196d1e0dd689e097449bc81d7d585a7de7dd86b081b80b\n",
      "Successfully built PyInstaller\n",
      "Building wheels for collected packages: pefile\n",
      "  Building wheel for pefile (setup.py): started\n",
      "  Building wheel for pefile (setup.py): finished with status 'done'\n",
      "  Stored in directory: C:\\Users\\DAVID TANEJA\\AppData\\Local\\pip\\Cache\\wheels\\1c\\a1\\95\\4f33011a0c013c872fe6f0f364dc463a2588120820e40a30d8\n",
      "Successfully built pefile\n",
      "Installing collected packages: pefile, altgraph, pywin32-ctypes, PyInstaller\n",
      "Successfully installed PyInstaller-3.6 altgraph-0.17 pefile-2019.4.18 pywin32-ctypes-0.2.0\n"
     ]
    }
   ],
   "source": [
    "# 1st install pyinstaller, in cmd prompt use > pip install PyInstaller\n",
    "\n",
    "!pip install PyInstaller           # in anaconda use !"
   ]
  },
  {
   "cell_type": "markdown",
   "metadata": {},
   "source": [
    "## --------------------------------------------------------------\n",
    "## --------------------------------------------------------------"
   ]
  },
  {
   "cell_type": "code",
   "execution_count": null,
   "metadata": {},
   "outputs": [],
   "source": [
    "1.Open cmd prompt / anaconda cmd prompt \n",
    "go into project folder where '.py' file / project is located.\n",
    "\n",
    "2.type cmd > pyinstaller -F -w digitalclock.py               # 'digitalclock.py' file name\n",
    "\n",
    "or\n",
    "\n",
    "cmd  > pyinstaller -F -w -i \"python.ico\" digitalclock.py     \n",
    "\n",
    "or \n",
    "\n",
    "cmd > pyinstaller --onefile -w digitalclock.py        # --onefile : create one file"
   ]
  },
  {
   "cell_type": "code",
   "execution_count": null,
   "metadata": {},
   "outputs": [],
   "source": [
    "# -F : means converting a single executable file\n",
    "# -w : to stop opening of output console\n",
    "# -i : used for an icon image, 'icon file' with extension '.ico', image file should be in project folder"
   ]
  },
  {
   "cell_type": "code",
   "execution_count": null,
   "metadata": {},
   "outputs": [],
   "source": [
    "# In 'dist' folder , \".exe\" file created , after it take this \".exe\" file out of it \n",
    "# and put outside / in main folder where \".py\" file located and all other files located.\n",
    "\n",
    "# also it creates a 'build' folder and '.spec' file , delete both not needed."
   ]
  },
  {
   "cell_type": "markdown",
   "metadata": {},
   "source": [
    "## Now convert all files and folders of \"main project folder\" into 1 file, so it not looks bunchy/big foder."
   ]
  },
  {
   "cell_type": "code",
   "execution_count": null,
   "metadata": {},
   "outputs": [],
   "source": [
    "# using NSIS , download from here : https://nsis.sourceforge.io/Download\n",
    "# click download and install it.\n",
    "\n",
    "1.goto project folder, right click on it and send to -> compressed to zip folder.\n",
    "\n",
    "2.open NSIS , click on \"Installer based on .ZIP file\" and \"Open\" that zip file / upload it.\n",
    "in Installer name change name if want, then click on \"Generate\" and take some time and then \"Close\" after created\n",
    "\n",
    "3.goto project folder it created a \".exe\" file / installation file with an NSIS icon, \n",
    "double click on and install app where you want to install it. \n",
    "\n",
    "-> Also now give this 1 app file to anyone / upload anywhere."
   ]
  }
 ],
 "metadata": {
  "kernelspec": {
   "display_name": "Python 3",
   "language": "python",
   "name": "python3"
  },
  "language_info": {
   "codemirror_mode": {
    "name": "ipython",
    "version": 3
   },
   "file_extension": ".py",
   "mimetype": "text/x-python",
   "name": "python",
   "nbconvert_exporter": "python",
   "pygments_lexer": "ipython3",
   "version": "3.6.8"
  }
 },
 "nbformat": 4,
 "nbformat_minor": 2
}
